{
 "cells": [
  {
   "cell_type": "markdown",
   "id": "b0b94c8c-5713-4283-809c-593c9aad1513",
   "metadata": {},
   "source": [
    "Q1, Create a vehicle class with an init method having instance variables as name_of_vehicle, max_speed\n",
    "and average_of_vehicle."
   ]
  },
  {
   "cell_type": "code",
   "execution_count": 14,
   "id": "d4e06332-cbaa-4c8e-879d-2098c2d59585",
   "metadata": {},
   "outputs": [],
   "source": [
    "class vehicle:\n",
    "    def init(self,name_of_vehicle,max_speed,average_of_vehicle):\n",
    "        self.name_of_vehicle = name_of_vehicle\n",
    "        self.max_speed = max_speed\n",
    "        self.average_of_vehicle = average_of_vehicle\n",
    "        "
   ]
  },
  {
   "cell_type": "markdown",
   "id": "ebcd1455-7f6e-4f0b-877b-72472ed641ee",
   "metadata": {},
   "source": [
    "Q2. Create a child class car from the vehicle class created in Que 1, which will inherit the vehicle class.\n",
    "Create a method named seating_capacity which takes capacity as an argument and returns the name of\n",
    "the vehicle and its seating capacity."
   ]
  },
  {
   "cell_type": "code",
   "execution_count": 26,
   "id": "77a32723-1dee-4d70-bb99-f32082d3e8fe",
   "metadata": {},
   "outputs": [],
   "source": [
    "class car(vehicle):\n",
    "    def seating_capacity(self,capacity):\n",
    "        self.capacity = capacity\n",
    "        return self.name_of_vehicle,self.capacity"
   ]
  },
  {
   "cell_type": "code",
   "execution_count": 27,
   "id": "1b7111b6-0f3c-47de-89c9-cf4132b13d0f",
   "metadata": {},
   "outputs": [],
   "source": [
    "obj_car = car()\n",
    "obj_car.init(\"xuv 800\",\"220\",\"120\")"
   ]
  },
  {
   "cell_type": "code",
   "execution_count": 28,
   "id": "c2278f1c-9c53-4b48-9f28-b26d125bc134",
   "metadata": {},
   "outputs": [
    {
     "data": {
      "text/plain": [
       "('xuv 800', '80')"
      ]
     },
     "execution_count": 28,
     "metadata": {},
     "output_type": "execute_result"
    }
   ],
   "source": [
    "obj_car.seating_capacity(\"80\")"
   ]
  },
  {
   "cell_type": "markdown",
   "id": "14aa46af-68d1-48f6-b507-7d7867c2e967",
   "metadata": {},
   "source": [
    "Q3. What is multiple inheritance? Write a python code to demonstrate multiple inheritance."
   ]
  },
  {
   "cell_type": "markdown",
   "id": "0737c82e-e5d2-4a1a-b3d8-0f0aff58b6bf",
   "metadata": {},
   "source": [
    "Answer : Mutiple inheritence is a inheritance in which third class has all access of first two class from which is inherited but both these two classes doesn't correlate with each other\n",
    "\n",
    "example given below:\n"
   ]
  },
  {
   "cell_type": "code",
   "execution_count": 12,
   "id": "b0994dce-450f-4379-898d-d77808f6ab06",
   "metadata": {},
   "outputs": [],
   "source": [
    "class class1:\n",
    "    def test_class1(self):\n",
    "        print(\"this is my class 1\")"
   ]
  },
  {
   "cell_type": "code",
   "execution_count": 13,
   "id": "d1fd1ffd-0ac9-4463-930f-f905633eafd3",
   "metadata": {},
   "outputs": [],
   "source": [
    "class class2:\n",
    "    def test_class2(self):\n",
    "        print(\"this is my class 2\")"
   ]
  },
  {
   "cell_type": "code",
   "execution_count": 14,
   "id": "bd7db318-7cf3-4fca-a74e-8449d7378217",
   "metadata": {},
   "outputs": [],
   "source": [
    "class class3(class1,class2):\n",
    "    pass"
   ]
  },
  {
   "cell_type": "markdown",
   "id": "ba246be0-405e-47ae-990e-2c7117ceab81",
   "metadata": {},
   "source": [
    "Q4. What are getter and setter in python? Create a class and create a getter and a setter method in this\n",
    "class."
   ]
  },
  {
   "cell_type": "raw",
   "id": "cecc2fae-dd38-4b60-8d59-f971d9ad1ae6",
   "metadata": {},
   "source": [
    "Answer : Getters and setters are used to retrieve and update data. A getter retrieves an object's current attribute value, whereas a setter changes an object's attribute value. \n",
    "Let see a getter and setter in Python with example:"
   ]
  },
  {
   "cell_type": "code",
   "execution_count": 2,
   "id": "a4bafa0a-c69e-49f2-aaa1-3f641e8b17a7",
   "metadata": {},
   "outputs": [],
   "source": [
    "class car:\n",
    "    \n",
    "    def __init__(self , year , make , model , speed ):\n",
    "        self.__year = year\n",
    "        self.__make = make\n",
    "        self.__model = model\n",
    "        self.__speed = 0\n",
    "        \n",
    "    def set_speed(self,speed):\n",
    "        self.__speed = 0 if speed < 0 else speed\n",
    "        \n",
    "    def get_speed(self):\n",
    "        return self.__speed"
   ]
  },
  {
   "cell_type": "markdown",
   "id": "6b1904f5-4d41-4340-a6d7-89e044ec3072",
   "metadata": {},
   "source": [
    "Q5.What is method overriding in python? Write a python code to demonstrate method overriding."
   ]
  },
  {
   "cell_type": "markdown",
   "id": "77247b10-990a-4d3d-a879-30654877713e",
   "metadata": {},
   "source": [
    "Answer : Method overriding is a feature of oops where the subclass or child class can provide the program with specific characteristics or a specific implementation process of data provided that are already defined in parent class or superclass."
   ]
  },
  {
   "cell_type": "code",
   "execution_count": 3,
   "id": "0596cdd4-4033-4d2c-9ace-17d2afa86f1d",
   "metadata": {},
   "outputs": [],
   "source": [
    "class class1:\n",
    "    def name(self,name1):\n",
    "        self.name1 = name1\n",
    "        "
   ]
  },
  {
   "cell_type": "code",
   "execution_count": null,
   "id": "bdfcff4c-f6e5-4aca-a115-8dc1864b9608",
   "metadata": {},
   "outputs": [],
   "source": [
    "class class2(class1):\n",
    "    def name (self,name2):\n",
    "        self.name2 = name2"
   ]
  }
 ],
 "metadata": {
  "kernelspec": {
   "display_name": "Python 3 (ipykernel)",
   "language": "python",
   "name": "python3"
  },
  "language_info": {
   "codemirror_mode": {
    "name": "ipython",
    "version": 3
   },
   "file_extension": ".py",
   "mimetype": "text/x-python",
   "name": "python",
   "nbconvert_exporter": "python",
   "pygments_lexer": "ipython3",
   "version": "3.10.8"
  }
 },
 "nbformat": 4,
 "nbformat_minor": 5
}
